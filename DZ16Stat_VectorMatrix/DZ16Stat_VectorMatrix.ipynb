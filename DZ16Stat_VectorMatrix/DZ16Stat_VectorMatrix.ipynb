{
 "cells": [
  {
   "cell_type": "markdown",
   "metadata": {},
   "source": [
    "# Домашняя работа №1"
   ]
  },
  {
   "cell_type": "code",
   "execution_count": 1,
   "metadata": {},
   "outputs": [],
   "source": [
    "import numpy as np\n",
    "from matplotlib import pyplot as plt"
   ]
  },
  {
   "cell_type": "markdown",
   "metadata": {},
   "source": [
    "## Задание 1"
   ]
  },
  {
   "cell_type": "markdown",
   "metadata": {},
   "source": [
    "Изобразите с помощью matplotlib. Изобразите точку x + 2y + 3z. Найдите угол между векторами x, y и x, z. "
   ]
  },
  {
   "cell_type": "code",
   "execution_count": 2,
   "metadata": {},
   "outputs": [],
   "source": [
    "x = np.array([1,1])\n",
    "y = np.array([2, 0])\n",
    "z = np.array([0,2])"
   ]
  },
  {
   "cell_type": "code",
   "execution_count": 3,
   "metadata": {},
   "outputs": [
    {
     "name": "stdout",
     "output_type": "stream",
     "text": [
      "Длина (норма) вектора x = 1.414\n",
      "Длина (норма) вектора y = 2.0\n",
      "Длина (норма) вектора z = 2.0\n",
      "Угол между векторами x, y равен 45.0°\n",
      "Угол между векторами x, z равен 45.0°\n",
      "Точка x + 2y + 3z: X=5, Y=7\n"
     ]
    },
    {
     "data": {
      "image/png": "[encoded data removed]",
      "text/plain": [
       "<Figure size 432x288 with 1 Axes>"
      ]
     },
     "metadata": {
      "needs_background": "light"
     },
     "output_type": "display_data"
    }
   ],
   "source": [
    "len_x = np.linalg.norm(x)\n",
    "print(f'Длина (норма) вектора x = {round(len_x, 3)}')\n",
    "\n",
    "len_y = np.linalg.norm(y)\n",
    "print(f'Длина (норма) вектора y = {round(len_y, 3)}')\n",
    "\n",
    "len_z = np.linalg.norm(z)\n",
    "print(f'Длина (норма) вектора z = {round(len_z, 3)}')\n",
    "\n",
    "x_y_cos = np.degrees(np.arccos(np.dot(x, y) / len_x / len_y))\n",
    "print(f'Угол между векторами x, y равен {round(x_y_cos, 2)}°')\n",
    "\n",
    "x_z_cos = np.degrees(np.arccos(np.dot(x, z) / len_x / len_z))\n",
    "print(f'Угол между векторами x, z равен {round(x_z_cos, 2)}°')\n",
    "\n",
    "res_point = x + 2 * y + 3 * z\n",
    "print(f'Точка x + 2y + 3z: X={res_point[0]}, Y={res_point[1]}')\n",
    "\n",
    "plt.xlim(0, 10)\n",
    "plt.ylim(0, 10)\n",
    "plt.scatter(res_point[0], res_point[1], color='black')\n",
    "plt.show()"
   ]
  },
  {
   "cell_type": "markdown",
   "metadata": {},
   "source": [
    "## Задание 2"
   ]
  },
  {
   "cell_type": "markdown",
   "metadata": {},
   "source": [
    "Найдите собственные значения и собственные вектора матриц (необходимо решение на numpy и решение по алгоритму на бумажке). Для матрицы 3x3 можно посмотреть на корни характеристического многочлена, посчитанные в numpy."
   ]
  },
  {
   "cell_type": "code",
   "execution_count": 4,
   "metadata": {},
   "outputs": [],
   "source": [
    "m1 = np.array([[2, 2],\n",
    "               [1, 3]])\n",
    "\n",
    "m2 = np.array([[4, 1, -1],\n",
    "               [1, 4, -1],\n",
    "               [-1, -1, 4]])"
   ]
  },
  {
   "cell_type": "code",
   "execution_count": 5,
   "metadata": {},
   "outputs": [
    {
     "name": "stdout",
     "output_type": "stream",
     "text": [
      "Собственное значения матрицы m1\n",
      "[[2 2]\n",
      " [1 3]]\n",
      "равны:\n",
      "[1. 4.]\n",
      "\n",
      "Собственные векторы матрицы m1\n",
      "[[2 2]\n",
      " [1 3]]\n",
      "равны:\n",
      "[[-0.89442719 -0.70710678]\n",
      " [ 0.4472136  -0.70710678]]\n",
      "\n",
      "Проверка:\n",
      "np.dot(m1, v1)\n",
      "[[-0.89442719 -2.82842712]\n",
      " [ 0.4472136  -2.82842712]]\n",
      "w1*v1\n",
      "[[-0.89442719 -2.82842712]\n",
      " [ 0.4472136  -2.82842712]]\n",
      "\n",
      "==========\n",
      "\n",
      "Собственное значения матрицы m2\n",
      "[[ 4  1 -1]\n",
      " [ 1  4 -1]\n",
      " [-1 -1  4]]\n",
      "равны:\n",
      "[3. 6. 3.]\n",
      "\n",
      "Собственные векторы матрицы m2\n",
      "[[ 4  1 -1]\n",
      " [ 1  4 -1]\n",
      " [-1 -1  4]]\n",
      "равны:\n",
      "[[-0.81649658  0.57735027 -0.27658128]\n",
      " [ 0.40824829  0.57735027  0.8035929 ]\n",
      " [-0.40824829 -0.57735027  0.52701162]]\n",
      "\n",
      "Проверка:\n",
      "np.dot(m2, v2)\n",
      "[[-2.44948974  3.46410162 -0.82974385]\n",
      " [ 1.22474487  3.46410162  2.4107787 ]\n",
      " [-1.22474487 -3.46410162  1.58103485]]\n",
      "w2*v2\n",
      "[[-2.44948974  3.46410162 -0.82974385]\n",
      " [ 1.22474487  3.46410162  2.4107787 ]\n",
      " [-1.22474487 -3.46410162  1.58103485]]\n"
     ]
    }
   ],
   "source": [
    "\"\"\" Алгоритм \"на бумажке\" в файле m1.pdf \"\"\"\n",
    "\n",
    "# w – cобственные значения матрицы\n",
    "# v – cобственные векторы матрицы\n",
    "\n",
    "w1, v1 = np.linalg.eig(m1)\n",
    "w2, v2 = np.linalg.eig(m2)\n",
    "\n",
    "print(f'Собственное значения матрицы m1\\n{m1}\\nравны:\\n{w1}\\n')\n",
    "print(f'Собственные векторы матрицы m1\\n{m1}\\nравны:\\n{v1}\\n')\n",
    "print(f'Проверка:\\nnp.dot(m1, v1)\\n{np.dot(m1, v1)}\\nw1*v1\\n{w1*v1}\\n')\n",
    "print('==========\\n')\n",
    "print(f'Собственное значения матрицы m2\\n{m2}\\nравны:\\n{w2}\\n')\n",
    "print(f'Собственные векторы матрицы m2\\n{m2}\\nравны:\\n{v2}\\n')\n",
    "print(f'Проверка:\\nnp.dot(m2, v2)\\n{np.dot(m2, v2)}\\nw2*v2\\n{w2*v2}')"
   ]
  },
  {
   "cell_type": "markdown",
   "metadata": {},
   "source": [
    "## Задание 3"
   ]
  },
  {
   "cell_type": "markdown",
   "metadata": {},
   "source": [
    "Найдите сингулярное разложение матрицы."
   ]
  },
  {
   "cell_type": "code",
   "execution_count": 6,
   "metadata": {},
   "outputs": [],
   "source": [
    "m3 = np.array([[1, 2],\n",
    "               [2, 3]])"
   ]
  },
  {
   "cell_type": "code",
   "execution_count": 7,
   "metadata": {},
   "outputs": [
    {
     "name": "stdout",
     "output_type": "stream",
     "text": [
      "U =\n",
      "[[-0.52573111 -0.85065081]\n",
      " [-0.85065081  0.52573111]]\n",
      "\n",
      "D =\n",
      "[4.23606798 0.23606798]\n",
      "\n",
      "V =\n",
      "[[-0.52573111 -0.85065081]\n",
      " [ 0.85065081 -0.52573111]]\n"
     ]
    }
   ],
   "source": [
    "\"\"\"\n",
    "m3 = U*D*V, где:\n",
    "m3 – матрица размером m, n\n",
    "U – матрица состоящая из левых сингулярных векторов (один из размеров будет равен m)\n",
    "D – это диагональная матрица размером (m, n), которая содержит сингулярные числа исходной матрицы m3\n",
    "V – матрица (транспонированная) состоящая из правых сингулярных векторов (один из размеров будет равен n)\n",
    "\"\"\"\n",
    "res = np.linalg.svd(m3, compute_uv=True)\n",
    "\n",
    "print(f'U =\\n{res[0]}\\n\\nD =\\n{res[1]}\\n\\nV =\\n{res[2]}')"
   ]
  },
  {
   "cell_type": "code",
   "execution_count": null,
   "metadata": {},
   "outputs": [],
   "source": []
  }
 ],
 "metadata": {
  "kernelspec": {
   "display_name": "Python 3",
   "language": "python",
   "name": "python3"
  },
  "language_info": {
   "codemirror_mode": {
    "name": "ipython",
    "version": 3
   },
   "file_extension": ".py",
   "mimetype": "text/x-python",
   "name": "python",
   "nbconvert_exporter": "python",
   "pygments_lexer": "ipython3",
   "version": "3.7.6"
  }
 },
 "nbformat": 4,
 "nbformat_minor": 2
}
