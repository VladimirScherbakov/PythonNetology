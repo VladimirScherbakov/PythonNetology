{
 "cells": [
  {
   "cell_type": "code",
   "execution_count": 1,
   "metadata": {},
   "outputs": [],
   "source": [
    "# Импортирование библиотек\n",
    "\n",
    "import numpy as np\n",
    "import pandas as pd"
   ]
  },
  {
   "cell_type": "markdown",
   "metadata": {},
   "source": [
    "**Задание 1**\n",
    "\n",
    "Скачайте с сайта https://grouplens.org/datasets/movielens/ датасет любого размера. Определите какому фильму было выставлено больше всего оценок 5.0."
   ]
  },
  {
   "cell_type": "code",
   "execution_count": 2,
   "metadata": {},
   "outputs": [
    {
     "data": {
      "text/html": [
       "<div>\n",
       "<style scoped>\n",
       "    .dataframe tbody tr th:only-of-type {\n",
       "        vertical-align: middle;\n",
       "    }\n",
       "\n",
       "    .dataframe tbody tr th {\n",
       "        vertical-align: top;\n",
       "    }\n",
       "\n",
       "    .dataframe thead th {\n",
       "        text-align: right;\n",
       "    }\n",
       "</style>\n",
       "<table border=\"1\" class=\"dataframe\">\n",
       "  <thead>\n",
       "    <tr style=\"text-align: right;\">\n",
       "      <th></th>\n",
       "      <th>movieId</th>\n",
       "      <th>title</th>\n",
       "      <th>genres</th>\n",
       "    </tr>\n",
       "  </thead>\n",
       "  <tbody>\n",
       "    <tr>\n",
       "      <th>277</th>\n",
       "      <td>318</td>\n",
       "      <td>Shawshank Redemption, The (1994)</td>\n",
       "      <td>Crime|Drama</td>\n",
       "    </tr>\n",
       "  </tbody>\n",
       "</table>\n",
       "</div>"
      ],
      "text/plain": [
       "     movieId                             title       genres\n",
       "277      318  Shawshank Redemption, The (1994)  Crime|Drama"
      ]
     },
     "execution_count": 2,
     "metadata": {},
     "output_type": "execute_result"
    }
   ],
   "source": [
    "movies_ratings = pd.read_csv('ratings.csv')\n",
    "movies_ratings_5 = movies_ratings[ movies_ratings['rating'] >= 5 ] #Фильтр: все фильмы с рейтингом 5.0\n",
    "best_movie_id = movies_ratings_5['movieId'].value_counts().index[0] #ID фильма с максимальным количеством оценок 5.0 (id 318)\n",
    "\n",
    "movies_name = pd.read_csv('movies.csv')\n",
    "movies_name[ movies_name['movieId'] == best_movie_id ] #Фильтруем фильм по его ID"
   ]
  },
  {
   "cell_type": "markdown",
   "metadata": {},
   "source": [
    "**Задание 2**\n",
    "\n",
    "По данным файла power.csv посчитайте суммарное потребление стран Прибалтики (Латвия, Литва и Эстония) категорий 4, 12 и 21 за период с 2005 по 2010 года. Не учитывайте в расчетах отрицательные значения quantity."
   ]
  },
  {
   "cell_type": "code",
   "execution_count": 3,
   "metadata": {},
   "outputs": [
    {
     "data": {
      "text/plain": [
       "240580.0"
      ]
     },
     "execution_count": 3,
     "metadata": {},
     "output_type": "execute_result"
    }
   ],
   "source": [
    "tbl = pd.read_csv('power.csv')\n",
    "\n",
    "tbl_filtered = tbl[ ((tbl['category'] == 4) & (tbl['year'] >= 2005) & (tbl['year'] <= 2010) & (tbl['quantity'] > 0)) | \n",
    "                   ((tbl['category'] == 12) & (tbl['year'] >= 2005) & (tbl['year'] <= 2010) & (tbl['quantity'] > 0)) | \n",
    "                   ((tbl['category'] == 21) & (tbl['year'] >= 2005) & (tbl['year'] <= 2010) & (tbl['quantity'] > 0))]\n",
    "\n",
    "tbl_filtered_country = tbl_filtered[ (tbl_filtered['country'].str.contains('Latvia', case = False)) |\n",
    "                                   (tbl_filtered['country'].str.contains('Lithuania', case = False)) | \n",
    "                                   (tbl_filtered['country'].str.contains('Estonia', case = False)) ]\n",
    "\n",
    "sum(tbl_filtered_country['quantity']) #Также правильно? Посчитается сумма всех значений по столбцу 'quantity'?"
   ]
  },
  {
   "cell_type": "markdown",
   "metadata": {},
   "source": [
    "**Задание 3**\n",
    "\n",
    "Выберите страницу любого сайта с табличными данными. Импортируйте таблицы в pandas dataframe.\n",
    "Примеры страниц (необязательно брать именно эти):\n",
    "\n",
    "https://fortrader.org/quotes\n",
    "\n",
    "https://www.finanz.ru/valyuty/v-realnom-vremeni"
   ]
  },
  {
   "cell_type": "code",
   "execution_count": 4,
   "metadata": {},
   "outputs": [
    {
     "data": {
      "text/html": [
       "<div>\n",
       "<style scoped>\n",
       "    .dataframe tbody tr th:only-of-type {\n",
       "        vertical-align: middle;\n",
       "    }\n",
       "\n",
       "    .dataframe tbody tr th {\n",
       "        vertical-align: top;\n",
       "    }\n",
       "\n",
       "    .dataframe thead th {\n",
       "        text-align: right;\n",
       "    }\n",
       "</style>\n",
       "<table border=\"1\" class=\"dataframe\">\n",
       "  <thead>\n",
       "    <tr style=\"text-align: right;\">\n",
       "      <th></th>\n",
       "      <th>Название</th>\n",
       "      <th>Цена</th>\n",
       "      <th>Изменение</th>\n",
       "      <th>Изменение(%)</th>\n",
       "      <th>Обновлено</th>\n",
       "    </tr>\n",
       "  </thead>\n",
       "  <tbody>\n",
       "    <tr>\n",
       "      <th>0</th>\n",
       "      <td>Золото Цена золота на бирже</td>\n",
       "      <td>1774.9000</td>\n",
       "      <td>-0.9000</td>\n",
       "      <td>-0.1000</td>\n",
       "      <td>NaN</td>\n",
       "    </tr>\n",
       "    <tr>\n",
       "      <th>1</th>\n",
       "      <td>Серебро Цена на серебро</td>\n",
       "      <td>17.7860</td>\n",
       "      <td>0.0200</td>\n",
       "      <td>0.1130</td>\n",
       "      <td>NaN</td>\n",
       "    </tr>\n",
       "    <tr>\n",
       "      <th>2</th>\n",
       "      <td>Платина Цены на платину</td>\n",
       "      <td>804.1000</td>\n",
       "      <td>-5.9000</td>\n",
       "      <td>-0.7000</td>\n",
       "      <td>NaN</td>\n",
       "    </tr>\n",
       "    <tr>\n",
       "      <th>3</th>\n",
       "      <td>Палладий Цена на Палладий</td>\n",
       "      <td>1854.0500</td>\n",
       "      <td>-12.9500</td>\n",
       "      <td>-0.6900</td>\n",
       "      <td>NaN</td>\n",
       "    </tr>\n",
       "    <tr>\n",
       "      <th>4</th>\n",
       "      <td>Медь Цена меди на бирже</td>\n",
       "      <td>2.4575</td>\n",
       "      <td>-0.2105</td>\n",
       "      <td>-7.8898</td>\n",
       "      <td>NaN</td>\n",
       "    </tr>\n",
       "  </tbody>\n",
       "</table>\n",
       "</div>"
      ],
      "text/plain": [
       "                      Название       Цена  Изменение  Изменение(%)  Обновлено\n",
       "0  Золото Цена золота на бирже  1774.9000    -0.9000       -0.1000        NaN\n",
       "1      Серебро Цена на серебро    17.7860     0.0200        0.1130        NaN\n",
       "2      Платина Цены на платину   804.1000    -5.9000       -0.7000        NaN\n",
       "3    Палладий Цена на Палладий  1854.0500   -12.9500       -0.6900        NaN\n",
       "4      Медь Цена меди на бирже     2.4575    -0.2105       -7.8898        NaN"
      ]
     },
     "execution_count": 4,
     "metadata": {},
     "output_type": "execute_result"
    }
   ],
   "source": [
    "html_tbl = pd.read_html('https://fortrader.org/quotes/metals')[0]\n",
    "html_tbl"
   ]
  },
  {
   "cell_type": "code",
   "execution_count": null,
   "metadata": {},
   "outputs": [],
   "source": []
  }
 ],
 "metadata": {
  "kernelspec": {
   "display_name": "Python 3",
   "language": "python",
   "name": "python3"
  },
  "language_info": {
   "codemirror_mode": {
    "name": "ipython",
    "version": 3
   },
   "file_extension": ".py",
   "mimetype": "text/x-python",
   "name": "python",
   "nbconvert_exporter": "python",
   "pygments_lexer": "ipython3",
   "version": "3.7.6"
  }
 },
 "nbformat": 4,
 "nbformat_minor": 4
}
