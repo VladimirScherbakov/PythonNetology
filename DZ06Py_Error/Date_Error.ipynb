{
 "cells": [
  {
   "cell_type": "markdown",
   "metadata": {},
   "source": [
    "Задание 1\n",
    "\n",
    "Печатные газеты использовали свой формат дат для каждого выпуска. Для каждой газеты из списка напишите формат указанной даты для перевода в объект datetime:\n",
    "\n",
    "The Moscow Times - Wednesday, October 2, 2002\n",
    "The Guardian - Friday, 11.10.13\n",
    "Daily News - Thursday, 18 August 1977"
   ]
  },
  {
   "cell_type": "code",
   "execution_count": null,
   "metadata": {},
   "outputs": [],
   "source": [
    "from datetime import datetime\n",
    "\n",
    "def msk_times_convert (strdate):\n",
    "    date = datetime.strptime(strdate, \"%A, %B %d, %Y\")\n",
    "    return date\n",
    "\n",
    "def guardian_convert (strdate):\n",
    "    date = datetime.strptime(strdate, \"%A, %d.%m.%y\")\n",
    "    return date\n",
    "\n",
    "def daily_news_convert (strdate):\n",
    "    date = datetime.strptime(strdate, \"%A, %d %B %Y\")\n",
    "    return date"
   ]
  },
  {
   "cell_type": "markdown",
   "metadata": {},
   "source": [
    "Задание 2\n",
    "\n",
    "Дан поток дат в формате YYYY-MM-DD, в которых встречаются некорректные значения:\n",
    "stream = ['2018-04-02', '2018-02-29', '2018-19-02']\n",
    "\n",
    "Напишите функцию, которая проверяет эти даты на корректность. Т. е. для каждой даты возвращает True (дата корректна) или False (некорректная дата)."
   ]
  },
  {
   "cell_type": "code",
   "execution_count": null,
   "metadata": {},
   "outputs": [],
   "source": [
    "from datetime import datetime\n",
    "\n",
    "stream = ['2018-04-02', '2018-02-29', '2018-19-02']\n",
    "\n",
    "def data_check (strdate):\n",
    "    try:\n",
    "        date = datetime.strptime(strdate, \"%Y-%m-%d\")\n",
    "        return True\n",
    "    except:\n",
    "        return False\n",
    "\n",
    "for el in stream:\n",
    "    print(data_check(el))"
   ]
  },
  {
   "cell_type": "markdown",
   "metadata": {},
   "source": [
    "Задание 3\n",
    "\n",
    "Напишите функцию date_range, которая возвращает список дат за период от start_date до end_date. Даты должны вводиться в формате YYYY-MM-DD. В случае неверного формата или при start_date > end_date должен возвращаться пустой список."
   ]
  },
  {
   "cell_type": "code",
   "execution_count": null,
   "metadata": {},
   "outputs": [],
   "source": [
    "from datetime import datetime, timedelta\n",
    "\n",
    "def date_convert_check (strdate):\n",
    "    try:\n",
    "        date = datetime.strptime(strdate, \"%Y-%m-%d\")\n",
    "        return True\n",
    "    except:\n",
    "        return False\n",
    "\n",
    "def date_range ():\n",
    "    \n",
    "    data_list = []\n",
    "    check = False\n",
    "    \n",
    "    while check == False:\n",
    "        \n",
    "        start_date = input(\"Введите дату начала периода в формате YYYY-MM-DD: \")\n",
    "        end_date = input(\"Введите дату окончания периода в формате YYYY-MM-DD: \")\n",
    "        \n",
    "        if date_convert_check(start_date) and date_convert_check(end_date):\n",
    "            if start_date > end_date:\n",
    "                check = False\n",
    "                return data_list\n",
    "            else:\n",
    "#                 print(\"Введенные даты корректны.\")\n",
    "                check = True\n",
    "                delta_data = datetime.strptime(start_date, \"%Y-%m-%d\")    \n",
    "                while delta_data <= datetime.strptime(end_date, \"%Y-%m-%d\"):\n",
    "                    data_list.append(datetime.strftime(delta_data, \"%Y-%m-%d\"))\n",
    "                    delta_data += timedelta(days=1)\n",
    "                return data_list\n",
    "        else:\n",
    "#             print(\"Вы вели дату не в корректном формате.\")\n",
    "            check = False\n",
    "            return data_list\n",
    "\n",
    "print(date_range())"
   ]
  },
  {
   "cell_type": "markdown",
   "metadata": {},
   "source": [
    "Задание 4 (бонусное)\n",
    "\n",
    "Ваш коллега прислал код функции:\n",
    "\n",
    "DEFAULT_USER_COUNT = 3\n",
    "\n",
    "def delete_and_return_last_user(region, default_list=['A100', 'A101', 'A102']):\n",
    "    \"\"\"\n",
    "    Удаляет из списка default_list последнего пользователя \n",
    "    и возвращает ID нового последнего пользователя.\n",
    "    \"\"\"\n",
    "    element_to_delete = default_list[-1]\n",
    "    default_list.remove(element_to_delete)\n",
    "    \n",
    "    return default_list[DEFAULT_USER_COUNT-2]\n",
    "\n",
    "При однократном вызове этой функции все работает корректно:\n",
    "delete_and_return_last_user(1)\n",
    "'A101'\n",
    "\n",
    "Однако, при повторном вызове получается ошибка IndexError: list index out of range.\n",
    "\n",
    "Задание:\n",
    "1. Что значит ошибка list index out of range?\n",
    "2. Почему при первом запуске функция работает корректно, а при втором - нет?"
   ]
  },
  {
   "cell_type": "markdown",
   "metadata": {},
   "source": [
    "Ответ:\n",
    "1. Пытаемся вернуть из списка по индексу элемент, индекс которого превышает количество элементов в списке (допустим у нас список из двух элементов, а мы обращаемся к третьему элементу списка).\n",
    "2. У меня два варианта:\n",
    "а) К началу второго прохода в списке только два элемента и когда мы удаляем еще один элемент, то в списке остается только один с индексом 0, а не один как в вызове функции (я предполагаю, что в вызове фукнции (1) - это индекс элемента);\n",
    "б) Мы при первом проходе функции изменили дефолтный список из трех элементов (сократили до двух элементов), а при повторном вызове функции идет конфликт между сокращенным списком (2 элемента) и дефолным (3 элемента)."
   ]
  }
 ],
 "metadata": {
  "kernelspec": {
   "display_name": "Python 3",
   "language": "python",
   "name": "python3"
  },
  "language_info": {
   "codemirror_mode": {
    "name": "ipython",
    "version": 3
   },
   "file_extension": ".py",
   "mimetype": "text/x-python",
   "name": "python",
   "nbconvert_exporter": "python",
   "pygments_lexer": "ipython3",
   "version": "3.7.6"
  }
 },
 "nbformat": 4,
 "nbformat_minor": 4
}
