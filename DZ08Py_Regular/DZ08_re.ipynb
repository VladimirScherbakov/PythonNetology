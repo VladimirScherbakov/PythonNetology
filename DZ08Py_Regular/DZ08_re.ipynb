{
 "cells": [
  {
   "cell_type": "markdown",
   "metadata": {},
   "source": [
    "**Задание 1.**\n",
    "\n",
    "Напишите функцию, которая принимает на вход строку и проверяет является ли она валидным транспортным номером. Если да, то функция должна возвращать отдельно номер и регион.\n",
    "\n",
    "=============\n",
    "Тип 1 (однострочный; для легковых, грузовых, грузопассажирских автомобилей и автобусов (кроме отнесенных к типу 1Б)): М 000 ММ 55 или М 000 ММ 555"
   ]
  },
  {
   "cell_type": "code",
   "execution_count": null,
   "metadata": {},
   "outputs": [],
   "source": [
    "import re\n",
    "\n",
    "sign = input(\"Введите номер государственного регистрационного знака: \")\n",
    "\n",
    "def сhecking_sign (sign):\n",
    "    checking_result = re.match(r'[АВЕКМНОРСТXУ]{1}\\s\\d{3}\\s[АВЕКМНОРСТXУ]{2}\\s\\d{2,3}', sign) #По ГОСТу допустимы только следующие буквы: А, В, Е, К, М, Н, О, Р, С, Т, X, У\n",
    "    if checking_result:\n",
    "        number = re.match(r'[АВЕКМНОРСТXУ]{1}\\s\\d{3}\\s[АВЕКМНОРСТXУ]{2}', sign).group(0)\n",
    "        region = re.split(r'\\s', checking_result.group(0))[3]\n",
    "        return number, region\n",
    "    else:\n",
    "        return None\n",
    "    \n",
    "сhecking_sign (sign)"
   ]
  },
  {
   "cell_type": "markdown",
   "metadata": {},
   "source": [
    "**Задание 2.**\n",
    "\n",
    "Постарайтесь написать (в крайнем случае найти) самый полный шаблон для проверки e-mail адресов через регулярное выражение, которая проверяет e-mail адрес на валидность. Можно руководствоваться следующими минимальными требованиями:\n",
    "• адрес должен содержать специальный символ \"@\", который отделяет имя пользователя почтовой системы от доменного имени;\n",
    "• адрес не должен содержать следующие символы: \"пробел\", \",\", \":\", \";\", \"!\", \"#\", \"%\", \"*\", \"(\", \")\", \"=\", \"+\", \"{\", \"}\", \" \" \", \" ' \", \" / \", \" \\ \" и \"|\";\n",
    "• адрес должен состоять только из латинских символов;\n",
    "• после символа \"@\" должна быть как минимум одна \".\";\n",
    "• после последней точки должно быть не менее 2-х и не более 4-х символов, причем наличие цифр не допускается;\n",
    "• между последней точкой и символом \"@\" должно быть не менее 2-х символов\n",
    "• слева от \"@\" должно быть не менее четырех символов"
   ]
  },
  {
   "cell_type": "code",
   "execution_count": null,
   "metadata": {},
   "outputs": [],
   "source": [
    "import re\n",
    "\n",
    "str_email = input(\"Введите адрес электронной почты: \")\n",
    "\n",
    "def cheking_email (str_email):\n",
    "    str_email = re.match(r'[a-zA-Z0-9]{4,}@[a-zA-Z0-9]{2,}\\.[a-zA-Z]{2,4}$', str_email) #Попробывал свой простенький написать\n",
    "    if str_email:\n",
    "        return str_email.group(0)\n",
    "    else:\n",
    "        return None\n",
    "\n",
    "str_email = cheking_email(str_email)\n",
    "print(str_email)"
   ]
  },
  {
   "cell_type": "markdown",
   "metadata": {},
   "source": [
    "**Задание 3. **\n",
    "\n",
    "Напишите функцию, которая будет удалять все последовательные повторы слов из заданной строки при помощи регулярных выражений."
   ]
  },
  {
   "cell_type": "code",
   "execution_count": null,
   "metadata": {},
   "outputs": [],
   "source": [
    "import re\n",
    "\n",
    "str = input(\"Введите строку: \")\n",
    "\n",
    "def cheking_duble_word (str):\n",
    "    str = re.sub(r'\\b(\\w+)(\\s\\1\\b)+', r'\\1', str) # Еле решил, фактически в интернете что-то похожие нашел, понял, что бывает еще \\b (граница слова) и после решил (как по-другому не знаю)\n",
    "    return str\n",
    "\n",
    "str = cheking_duble_word(str)\n",
    "print(str)"
   ]
  },
  {
   "cell_type": "markdown",
   "metadata": {},
   "source": [
    "**Задание 4.**\n",
    "\n",
    "Напишите функцию, которая будет проверять номер сотового телефона на валидность, если он валиден, то переводить его в формат:\n",
    "+7(xxx)-xxx-xx-xx\n",
    "\n",
    "Постарайтесь предусмотреть как можно больше адекватных форматов изначального ввода номера. Примеры валидных форматов:\n",
    "+7 955 555-55-55\n",
    "9555555555\n",
    "8(955)555-55-55\n",
    "+7 955 555 55 55\n",
    "7(955) 555-55-55\n",
    "+7 955+555+55+55"
   ]
  },
  {
   "cell_type": "code",
   "execution_count": null,
   "metadata": {},
   "outputs": [],
   "source": [
    "import re\n",
    "\n",
    "phone_number = input(\"Введите номер телефона: \")\n",
    "\n",
    "def cheking_phone_number (phone_number):\n",
    "    phone_number = re.match(r'\\+?\\s?\\d?\\s?[(]?\\s?\\d{3}\\s?[)]?\\s?\\+?\\d{3}\\s?\\+?[-–]?\\d{2}\\s?\\+?[-–]?\\d{2}', phone_number)\n",
    "    if phone_number:\n",
    "        phone_number = re.sub(r'\\+?\\s?\\d?\\s?[(]?\\s?(\\d{3})\\s?[)]?\\s?\\+?(\\d{3})\\s?\\+?[-–]?(\\d{2})\\s?\\+?[-–]?(\\d{2})',r'+7(\\1)-\\2-\\3-\\4', phone_number.group(0))\n",
    "        return phone_number\n",
    "    else:\n",
    "        return None\n",
    "\n",
    "phone_number = cheking_phone_number(phone_number)\n",
    "print(phone_number)"
   ]
  },
  {
   "cell_type": "code",
   "execution_count": null,
   "metadata": {},
   "outputs": [],
   "source": []
  }
 ],
 "metadata": {
  "kernelspec": {
   "display_name": "Python 3",
   "language": "python",
   "name": "python3"
  },
  "language_info": {
   "codemirror_mode": {
    "name": "ipython",
    "version": 3
   },
   "file_extension": ".py",
   "mimetype": "text/x-python",
   "name": "python",
   "nbconvert_exporter": "python",
   "pygments_lexer": "ipython3",
   "version": "3.7.6"
  }
 },
 "nbformat": 4,
 "nbformat_minor": 4
}
